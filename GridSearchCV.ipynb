{
 "cells": [
  {
   "cell_type": "markdown",
   "metadata": {},
   "source": [
    "# GridSearchCV - odabir najboljih parametara"
   ]
  },
  {
   "cell_type": "code",
   "execution_count": 1,
   "metadata": {
    "_cell_guid": "b1076dfc-b9ad-4769-8c92-a6c4dae69d19",
    "_uuid": "8f2839f25d086af736a60e9eeb907d3b93b6e0e5"
   },
   "outputs": [],
   "source": [
    "import numpy as np\n",
    "import pandas as pd"
   ]
  },
  {
   "cell_type": "code",
   "execution_count": 2,
   "metadata": {},
   "outputs": [],
   "source": [
    "def rmse(y_pred, y_target):\n",
    "    return np.sqrt(np.mean(np.square(y_pred.reshape(-1,) - y_target.reshape(-1,))))"
   ]
  },
  {
   "cell_type": "code",
   "execution_count": 3,
   "metadata": {},
   "outputs": [],
   "source": [
    "df = pd.read_csv('/kaggle/input/housepricesnew/new_train.csv')"
   ]
  },
  {
   "cell_type": "code",
   "execution_count": 4,
   "metadata": {
    "_cell_guid": "79c7e3d0-c299-4dcb-8224-4455121ee9b0",
    "_uuid": "d629ff2d2480ee46fbb7e2d37f6b5fab8052498a"
   },
   "outputs": [],
   "source": [
    "from sklearn.preprocessing import MinMaxScaler\n",
    "from sklearn.model_selection import train_test_split\n",
    "\n",
    "x, y = df.drop('SalePrice', axis=1).values, df['SalePrice'].values\n",
    "\n",
    "y = np.log1p(y)"
   ]
  },
  {
   "cell_type": "markdown",
   "metadata": {},
   "source": [
    "`GridSearchCV` je metoda koja dobije parametre koje treba testirati i pritom radi unakrsnu validaciju za svaku kombinaciju modela te odabere najbolje parametre za model. Mi ćemo raditi unakrsnu validaciju sa `cv=5`"
   ]
  },
  {
   "cell_type": "markdown",
   "metadata": {},
   "source": [
    "## XGBoostRegressor"
   ]
  },
  {
   "cell_type": "code",
   "execution_count": 5,
   "metadata": {},
   "outputs": [],
   "source": [
    "from xgboost import XGBRegressor\n",
    "\n",
    "\n",
    "xgb_parameters = {\n",
    "'colsample_bytree':[0.4],\n",
    "'gamma':[0],\n",
    "'min_child_weight':[0, 1],\n",
    "'learning_rate':[0.05, 0.01],\n",
    "'max_depth':[3,5],\n",
    "'n_estimators':[10000],\n",
    "'reg_alpha':[0, 0.1],\n",
    "'reg_lambda':[0, 0.1],\n",
    "'subsample':[0.6, 0.8]  \n",
    "}\n",
    "\n",
    "model_xgb = XGBRegressor(tree_method='gpu_hist', seed=42)"
   ]
  },
  {
   "cell_type": "markdown",
   "metadata": {},
   "source": [
    "## LGBMRegressor"
   ]
  },
  {
   "cell_type": "code",
   "execution_count": 6,
   "metadata": {},
   "outputs": [],
   "source": [
    "from lightgbm import LGBMRegressor\n",
    "\n",
    "\n",
    "lgb_parameters ={\n",
    "                'num_leaves':[4,5],\n",
    "                'learning_rate':[0.05], \n",
    "                'n_estimators':[750,1000,5000],\n",
    "                'max_bin':[50,60], \n",
    "                'bagging_fraction':[0.7,0.8],\n",
    "                'bagging_freq':[4,5], \n",
    "                'feature_fraction':[0.2,0.3],\n",
    "                'feature_fraction_seed':[8,9], \n",
    "                'bagging_seed':[8,9],\n",
    "                'min_data_in_leaf':[6,7], \n",
    "                'min_sum_hessian_in_leaf':[10,11],\n",
    "                'subsample':[0.6,0.7]\n",
    "    }\n",
    "\n",
    "                    \n",
    "model_lgb = LGBMRegressor(objective='regression', tree_method='gpu_hist')"
   ]
  },
  {
   "cell_type": "markdown",
   "metadata": {},
   "source": [
    "## SVR"
   ]
  },
  {
   "cell_type": "code",
   "execution_count": 7,
   "metadata": {},
   "outputs": [],
   "source": [
    "from sklearn.svm import SVR\n",
    "\n",
    "svr_parameters={\n",
    "    'C':np.linspace(0.01,2,50),\n",
    "    'epsilon':np.linspace(0.01,0.99,50),\n",
    "    \n",
    "    \n",
    "}\n",
    "\n",
    "model_svr = SVR()"
   ]
  },
  {
   "cell_type": "markdown",
   "metadata": {},
   "source": [
    "## ElasticNet"
   ]
  },
  {
   "cell_type": "code",
   "execution_count": 8,
   "metadata": {},
   "outputs": [],
   "source": [
    "from sklearn.linear_model import ElasticNet\n",
    "\n",
    "\n",
    "\n",
    "\n",
    "\n",
    "\n",
    "enet_parameters = {\n",
    "                        \"alpha\": np.linspace(0.0001, 2, 40),\n",
    "                        \"l1_ratio\": np.linspace(0.001, 1.0, 50)\n",
    "                        }\n",
    "\n",
    "\n",
    "model_enet=ElasticNet()"
   ]
  },
  {
   "cell_type": "markdown",
   "metadata": {},
   "source": [
    "## GridSearchCV"
   ]
  },
  {
   "cell_type": "code",
   "execution_count": 9,
   "metadata": {},
   "outputs": [
    {
     "name": "stdout",
     "output_type": "stream",
     "text": [
      "Fitting 5 folds for each of 64 candidates, totalling 320 fits\n"
     ]
    },
    {
     "name": "stderr",
     "output_type": "stream",
     "text": [
      "[Parallel(n_jobs=6)]: Using backend LokyBackend with 6 concurrent workers.\n",
      "[Parallel(n_jobs=6)]: Done  38 tasks      | elapsed:  8.2min\n",
      "[Parallel(n_jobs=6)]: Done 188 tasks      | elapsed: 40.5min\n",
      "/opt/conda/lib/python3.7/site-packages/joblib/externals/loky/process_executor.py:706: UserWarning: A worker stopped while some jobs were given to the executor. This can be caused by a too short worker timeout or by a memory leak.\n",
      "  \"timeout or by a memory leak.\", UserWarning\n",
      "[Parallel(n_jobs=6)]: Done 320 out of 320 | elapsed: 89.4min finished\n",
      "/opt/conda/lib/python3.7/site-packages/sklearn/model_selection/_search.py:849: FutureWarning: The parameter 'iid' is deprecated in 0.22 and will be removed in 0.24.\n",
      "  \"removed in 0.24.\", FutureWarning\n"
     ]
    },
    {
     "name": "stdout",
     "output_type": "stream",
     "text": [
      "Fitting 5 folds for each of 3072 candidates, totalling 15360 fits\n"
     ]
    },
    {
     "name": "stderr",
     "output_type": "stream",
     "text": [
      "[Parallel(n_jobs=6)]: Using backend LokyBackend with 6 concurrent workers.\n",
      "[Parallel(n_jobs=6)]: Done  38 tasks      | elapsed:    8.6s\n",
      "[Parallel(n_jobs=6)]: Done 188 tasks      | elapsed:  1.7min\n",
      "[Parallel(n_jobs=6)]: Done 438 tasks      | elapsed:  4.0min\n",
      "[Parallel(n_jobs=6)]: Done 788 tasks      | elapsed:  7.2min\n",
      "[Parallel(n_jobs=6)]: Done 1238 tasks      | elapsed: 11.6min\n",
      "[Parallel(n_jobs=6)]: Done 1788 tasks      | elapsed: 17.8min\n",
      "[Parallel(n_jobs=6)]: Done 2438 tasks      | elapsed: 24.6min\n",
      "[Parallel(n_jobs=6)]: Done 3188 tasks      | elapsed: 33.2min\n",
      "[Parallel(n_jobs=6)]: Done 4038 tasks      | elapsed: 43.2min\n",
      "[Parallel(n_jobs=6)]: Done 4988 tasks      | elapsed: 53.6min\n",
      "[Parallel(n_jobs=6)]: Done 6038 tasks      | elapsed: 65.7min\n",
      "[Parallel(n_jobs=6)]: Done 7188 tasks      | elapsed: 78.6min\n",
      "[Parallel(n_jobs=6)]: Done 8438 tasks      | elapsed: 92.9min\n",
      "[Parallel(n_jobs=6)]: Done 9788 tasks      | elapsed: 109.7min\n",
      "[Parallel(n_jobs=6)]: Done 11238 tasks      | elapsed: 127.0min\n",
      "[Parallel(n_jobs=6)]: Done 12788 tasks      | elapsed: 145.0min\n",
      "[Parallel(n_jobs=6)]: Done 14438 tasks      | elapsed: 162.2min\n",
      "[Parallel(n_jobs=6)]: Done 15360 out of 15360 | elapsed: 172.6min finished\n",
      "/opt/conda/lib/python3.7/site-packages/sklearn/model_selection/_search.py:849: FutureWarning: The parameter 'iid' is deprecated in 0.22 and will be removed in 0.24.\n",
      "  \"removed in 0.24.\", FutureWarning\n"
     ]
    },
    {
     "name": "stdout",
     "output_type": "stream",
     "text": [
      "Fitting 5 folds for each of 2500 candidates, totalling 12500 fits\n"
     ]
    },
    {
     "name": "stderr",
     "output_type": "stream",
     "text": [
      "[Parallel(n_jobs=6)]: Using backend LokyBackend with 6 concurrent workers.\n",
      "/opt/conda/lib/python3.7/site-packages/joblib/externals/loky/process_executor.py:706: UserWarning: A worker stopped while some jobs were given to the executor. This can be caused by a too short worker timeout or by a memory leak.\n",
      "  \"timeout or by a memory leak.\", UserWarning\n",
      "[Parallel(n_jobs=6)]: Done  38 tasks      | elapsed:   11.3s\n",
      "[Parallel(n_jobs=6)]: Done 188 tasks      | elapsed:   21.8s\n",
      "[Parallel(n_jobs=6)]: Done 462 tasks      | elapsed:   39.5s\n",
      "[Parallel(n_jobs=6)]: Done 908 tasks      | elapsed:  1.1min\n",
      "[Parallel(n_jobs=6)]: Done 1454 tasks      | elapsed:  1.6min\n",
      "[Parallel(n_jobs=6)]: Done 2322 tasks      | elapsed:  2.5min\n",
      "[Parallel(n_jobs=6)]: Done 3394 tasks      | elapsed:  3.4min\n",
      "[Parallel(n_jobs=6)]: Done 4646 tasks      | elapsed:  4.5min\n",
      "[Parallel(n_jobs=6)]: Done 6066 tasks      | elapsed:  5.8min\n",
      "[Parallel(n_jobs=6)]: Done 7654 tasks      | elapsed:  7.2min\n",
      "[Parallel(n_jobs=6)]: Done 9442 tasks      | elapsed:  8.8min\n",
      "[Parallel(n_jobs=6)]: Done 11376 tasks      | elapsed: 10.7min\n",
      "[Parallel(n_jobs=6)]: Done 12500 out of 12500 | elapsed: 11.6min finished\n",
      "/opt/conda/lib/python3.7/site-packages/sklearn/model_selection/_search.py:849: FutureWarning: The parameter 'iid' is deprecated in 0.22 and will be removed in 0.24.\n",
      "  \"removed in 0.24.\", FutureWarning\n"
     ]
    },
    {
     "name": "stdout",
     "output_type": "stream",
     "text": [
      "Fitting 5 folds for each of 2000 candidates, totalling 10000 fits\n"
     ]
    },
    {
     "name": "stderr",
     "output_type": "stream",
     "text": [
      "[Parallel(n_jobs=6)]: Using backend LokyBackend with 6 concurrent workers.\n",
      "/opt/conda/lib/python3.7/site-packages/joblib/externals/loky/process_executor.py:706: UserWarning: A worker stopped while some jobs were given to the executor. This can be caused by a too short worker timeout or by a memory leak.\n",
      "  \"timeout or by a memory leak.\", UserWarning\n",
      "[Parallel(n_jobs=6)]: Done  38 tasks      | elapsed:   10.0s\n",
      "[Parallel(n_jobs=6)]: Done 188 tasks      | elapsed:   37.6s\n",
      "[Parallel(n_jobs=6)]: Done 864 tasks      | elapsed:   50.2s\n",
      "[Parallel(n_jobs=6)]: Done 2264 tasks      | elapsed:   59.1s\n",
      "[Parallel(n_jobs=6)]: Done 4064 tasks      | elapsed:  1.2min\n",
      "[Parallel(n_jobs=6)]: Done 6264 tasks      | elapsed:  1.4min\n",
      "[Parallel(n_jobs=6)]: Done 8864 tasks      | elapsed:  1.6min\n",
      "[Parallel(n_jobs=6)]: Done 9989 out of 10000 | elapsed:  1.7min remaining:    0.1s\n",
      "[Parallel(n_jobs=6)]: Done 10000 out of 10000 | elapsed:  1.7min finished\n",
      "/opt/conda/lib/python3.7/site-packages/sklearn/model_selection/_search.py:849: FutureWarning: The parameter 'iid' is deprecated in 0.22 and will be removed in 0.24.\n",
      "  \"removed in 0.24.\", FutureWarning\n"
     ]
    },
    {
     "data": {
      "text/plain": [
       "Pipeline(steps=[('minmaxscaler', MinMaxScaler()),\n",
       "                ('gridsearchcv',\n",
       "                 GridSearchCV(cv=5, estimator=ElasticNet(), iid=False, n_jobs=6,\n",
       "                              param_grid={'alpha': array([1.00000000e-04, 5.13794872e-02, 1.02658974e-01, 1.53938462e-01,\n",
       "       2.05217949e-01, 2.56497436e-01, 3.07776923e-01, 3.59056410e-01,\n",
       "       4.10335897e-01, 4.61615385e-01, 5.12894872e-01, 5.64174359e-01,\n",
       "       6.15453846e-01, 6.66...\n",
       "       0.4087551 , 0.42914286, 0.44953061, 0.46991837, 0.49030612,\n",
       "       0.51069388, 0.53108163, 0.55146939, 0.57185714, 0.5922449 ,\n",
       "       0.61263265, 0.63302041, 0.65340816, 0.67379592, 0.69418367,\n",
       "       0.71457143, 0.73495918, 0.75534694, 0.77573469, 0.79612245,\n",
       "       0.8165102 , 0.83689796, 0.85728571, 0.87767347, 0.89806122,\n",
       "       0.91844898, 0.93883673, 0.95922449, 0.97961224, 1.        ])},\n",
       "                              scoring='neg_root_mean_squared_error',\n",
       "                              verbose=True))])"
      ]
     },
     "execution_count": 9,
     "metadata": {},
     "output_type": "execute_result"
    }
   ],
   "source": [
    "from sklearn.pipeline import make_pipeline\n",
    "from sklearn.preprocessing import MinMaxScaler\n",
    "from sklearn.model_selection import GridSearchCV\n",
    "\n",
    "\n",
    "xgb_grid = make_pipeline(MinMaxScaler(), GridSearchCV(model_xgb, xgb_parameters, cv = 5, n_jobs = 6, iid=False, verbose=True, scoring='neg_root_mean_squared_error', refit=True))\n",
    "xgb_grid.fit(x,y)\n",
    "\n",
    "lgb_grid = make_pipeline(MinMaxScaler(), GridSearchCV(estimator = model_lgb, param_grid = lgb_parameters, cv=5, n_jobs = 6,iid=False, verbose=True, scoring = 'neg_root_mean_squared_error', refit=True))\n",
    "lgb_grid.fit(x,y)\n",
    "\n",
    "\n",
    "svr_grid = make_pipeline(MinMaxScaler(), GridSearchCV(estimator = model_svr, param_grid = svr_parameters, cv=5, n_jobs=6,iid=False, verbose=True, scoring = 'neg_root_mean_squared_error', refit=True))\n",
    "svr_grid.fit(x,y)\n",
    "\n",
    "\n",
    "enet_grid = make_pipeline(MinMaxScaler(), GridSearchCV(estimator = model_enet, param_grid = enet_parameters, cv=5, n_jobs=6,iid=False, verbose=True, scoring = 'neg_root_mean_squared_error', refit=True))\n",
    "enet_grid.fit(x,y)"
   ]
  },
  {
   "cell_type": "code",
   "execution_count": 10,
   "metadata": {},
   "outputs": [
    {
     "name": "stdout",
     "output_type": "stream",
     "text": [
      "{'colsample_bytree': 0.4, 'gamma': 0, 'learning_rate': 0.01, 'max_depth': 3, 'min_child_weight': 0, 'n_estimators': 10000, 'reg_alpha': 0.1, 'reg_lambda': 0.1, 'subsample': 0.6}\n",
      "{'bagging_fraction': 0.8, 'bagging_freq': 5, 'bagging_seed': 9, 'feature_fraction': 0.2, 'feature_fraction_seed': 9, 'learning_rate': 0.05, 'max_bin': 60, 'min_data_in_leaf': 6, 'min_sum_hessian_in_leaf': 10, 'n_estimators': 1000, 'num_leaves': 4, 'subsample': 0.6}\n",
      "{'C': 0.9034693877551021, 'epsilon': 0.01}\n",
      "{'alpha': 0.0001, 'l1_ratio': 1.0}\n"
     ]
    }
   ],
   "source": [
    "print(xgb_grid[1].best_params_)\n",
    "print(lgb_grid[1].best_params_)\n",
    "print(svr_grid[1].best_params_)\n",
    "print(enet_grid[1].best_params_)"
   ]
  },
  {
   "cell_type": "code",
   "execution_count": 11,
   "metadata": {},
   "outputs": [
    {
     "name": "stdout",
     "output_type": "stream",
     "text": [
      "XGBRegressor score: 0.1112651947924915\n",
      "LGBMRegressor score: 0.11386677929547775\n",
      "SVR score: 0.12035748269311575\n",
      "ElasticNet score: 0.11436090794260745\n"
     ]
    }
   ],
   "source": [
    "print('XGBRegressor score:', -xgb_grid[1].best_score_)\n",
    "print('LGBMRegressor score:', -lgb_grid[1].best_score_)\n",
    "print('SVR score:', -svr_grid[1].best_score_)\n",
    "print('ElasticNet score:', -enet_grid[1].best_score_)"
   ]
  }
 ],
 "metadata": {
  "kernelspec": {
   "display_name": "Python 3",
   "language": "python",
   "name": "python3"
  },
  "language_info": {
   "codemirror_mode": {
    "name": "ipython",
    "version": 3
   },
   "file_extension": ".py",
   "mimetype": "text/x-python",
   "name": "python",
   "nbconvert_exporter": "python",
   "pygments_lexer": "ipython3",
   "version": "3.7.3"
  }
 },
 "nbformat": 4,
 "nbformat_minor": 4
}
